{
 "cells": [
  {
   "cell_type": "code",
   "execution_count": 11,
   "metadata": {},
   "outputs": [],
   "source": [
    "from nltk.corpus import wordnet\n",
    "#from nltk.tokenize import word_tokenize"
   ]
  },
  {
   "cell_type": "code",
   "execution_count": 12,
   "metadata": {},
   "outputs": [],
   "source": [
    "import file"
   ]
  },
  {
   "cell_type": "code",
   "execution_count": 13,
   "metadata": {},
   "outputs": [],
   "source": [
    "def fallback(*args):\n",
    "    print(\"I don't seem to understand this? Can you say that again?\")\n",
    "    print(args)\n",
    "    sign_up_path(args)"
   ]
  },
  {
   "cell_type": "code",
   "execution_count": 14,
   "metadata": {},
   "outputs": [],
   "source": [
    "def user_response_syn(user_input):\n",
    "    synonyms = []\n",
    "    for syn in wordnet.synsets(user_input):\n",
    "        for l in syn.lemmas():\n",
    "            synonyms.append(l.name())\n",
    "    return synonyms"
   ]
  },
  {
   "cell_type": "code",
   "execution_count": 15,
   "metadata": {},
   "outputs": [],
   "source": [
    "def sign_up_path(*kwargs):\n",
    "    if len(kwargs) == 0:\n",
    "        name_strng = input(\"Can i have your name please?\")\n",
    "        if file.capture_name(name_strng) != (None, None, None):\n",
    "            name,m,l = file.capture_name(name_strng)\n",
    "            print(file.capture_name(name_strng))\n",
    "            sign_up_path(name)    \n",
    "        else:\n",
    "            #print(\"Here\")\n",
    "            fallback()\n",
    "    elif len(kwargs) == 1:\n",
    "        email_strng = input(\"Can i have your email id?\")\n",
    "        if file.find_email(email_strng) != None:\n",
    "            email = file.find_email(email_strng)\n",
    "            print(email)\n",
    "        else:\n",
    "            print(\"here\")\n",
    "            fallback(kwargs)"
   ]
  },
  {
   "cell_type": "code",
   "execution_count": 17,
   "metadata": {},
   "outputs": [
    {
     "name": "stdout",
     "output_type": "stream",
     "text": [
      "Can i have your name please?manan\n",
      "('manan', None, None)\n",
      "Can i have your email id?no\n",
      "here\n",
      "I don't seem to understand this? Can you say that again?\n",
      "(('manan',),)\n",
      "Can i have your email id?no\n",
      "here\n",
      "I don't seem to understand this? Can you say that again?\n",
      "(((('manan',),),),)\n",
      "Can i have your email id?m@d.g\n",
      "m@d.g\n"
     ]
    }
   ],
   "source": [
    "sign_up_path()"
   ]
  }
 ],
 "metadata": {
  "kernelspec": {
   "display_name": "Python 3",
   "language": "python",
   "name": "python3"
  },
  "language_info": {
   "codemirror_mode": {
    "name": "ipython",
    "version": 3
   },
   "file_extension": ".py",
   "mimetype": "text/x-python",
   "name": "python",
   "nbconvert_exporter": "python",
   "pygments_lexer": "ipython3",
   "version": "3.6.5"
  }
 },
 "nbformat": 4,
 "nbformat_minor": 2
}
