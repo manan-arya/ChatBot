{
 "cells": [
  {
   "cell_type": "code",
   "execution_count": 7,
   "metadata": {},
   "outputs": [],
   "source": [
    "import re\n",
    "from nltk.corpus import stopwords"
   ]
  },
  {
   "cell_type": "code",
   "execution_count": 8,
   "metadata": {},
   "outputs": [],
   "source": [
    "def find_email(string):\n",
    "    if re.search(r\"[a-z0-9\\.\\-+_]+@[a-z0-9\\.\\-+_]+\\.[a-z]+\", string):\n",
    "        email = re.findall(r\"[a-z0-9\\.\\-+_]+@[a-z0-9\\.\\-+_]+\\.[a-z]+\", string)\n",
    "        return email[0]\n",
    "    else:\n",
    "        return None"
   ]
  },
  {
   "cell_type": "code",
   "execution_count": 9,
   "metadata": {},
   "outputs": [],
   "source": [
    "def find_phone(string):\n",
    "    for word in string.split():\n",
    "        if word[0].isdigit():\n",
    "            if word[0] == '0':\n",
    "                phone = re.findall(r\"([0]\\d{3}[-\\.\\s]??\\d{3}[-\\.\\s]??\\d{4}|\\(\\d{3}\\)\\s*\\d{3}[-\\.\\s]??\\d{4}|\\d{3}[-\\.\\s]??\\d{4})\",word)\n",
    "                phone = phone[0][1:]\n",
    "            else:\n",
    "                phone = re.findall(r\"(\\d{3}[-\\.\\s]??\\d{3}[-\\.\\s]??\\d{4}|\\(\\d{3}\\)\\s*\\d{3}[-\\.\\s]??\\d{4}|\\d{3}[-\\.\\s]??\\d{4})\",word)\n",
    "                \n",
    "            phone = re.sub(r'[-\\.\\ ]', \"\", phone)\n",
    "            return phone\n",
    "        else:\n",
    "            return None"
   ]
  },
  {
   "cell_type": "code",
   "execution_count": 10,
   "metadata": {},
   "outputs": [],
   "source": [
    "def capture_name(string):\n",
    "    name = []\n",
    "    stop_words = stopwords.words('english')\n",
    "    #print(stop_words)\n",
    "    ignore_words = ['i','am','my','name','is','people','call','me','.','hey']\n",
    "    ignore_words = ignore_words + stop_words\n",
    "    for word in string.split():\n",
    "        #if word.isalpha():\n",
    "        if word.lower() not in ignore_words:\n",
    "            word = word.replace('.','')\n",
    "            name.append(word)\n",
    "    if len(name) >=3:\n",
    "        return name[0],name[1:-1],name[-1]\n",
    "    elif len(name) == 2:\n",
    "        return name[0],None,name[-1]\n",
    "    elif len(name) == 1:\n",
    "        return name[0],None,None\n",
    "    else:\n",
    "        return None,None,None"
   ]
  },
  {
   "cell_type": "code",
   "execution_count": 11,
   "metadata": {},
   "outputs": [],
   "source": [
    "#import nltk\n",
    "#nltk.download()"
   ]
  },
  {
   "cell_type": "code",
   "execution_count": 12,
   "metadata": {
    "scrolled": true
   },
   "outputs": [],
   "source": [
    "#print(find_email('Mail me at mananarya18@gmail.com'))\n",
    "#print(find_phone('Call me at 08285685590'))\n",
    "#first_name,middle_name,last_name = capture_name(\"we\")\n",
    "#if first_name != None\n",
    "#print(str(first_name)+' '+str(middle_name)+' '+str(last_name))"
   ]
  }
 ],
 "metadata": {
  "kernelspec": {
   "display_name": "Python 3",
   "language": "python",
   "name": "python3"
  },
  "language_info": {
   "codemirror_mode": {
    "name": "ipython",
    "version": 3
   },
   "file_extension": ".py",
   "mimetype": "text/x-python",
   "name": "python",
   "nbconvert_exporter": "python",
   "pygments_lexer": "ipython3",
   "version": "3.6.5"
  }
 },
 "nbformat": 4,
 "nbformat_minor": 2
}
